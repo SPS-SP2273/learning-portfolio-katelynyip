{
 "cells": [
  {
   "attachments": {},
   "cell_type": "markdown",
   "id": "123456",
   "metadata": {},
   "source": [
    "<div style=\"text-align:left;font-size:2em\"><span style=\"font-weight:bolder;font-size:1.25em\">SP2273 | Learning Portfolio</span><br><br><span style=\"font-weight:bold;color:darkred\">Fundamentals (Good) Exercises</span></div>"
   ]
  },
  {
   "cell_type": "markdown",
   "id": "23ce6a2f",
   "metadata": {},
   "source": [
    "## Exercise 1"
   ]
  },
  {
   "cell_type": "code",
   "execution_count": 4,
   "id": "66dfac41",
   "metadata": {},
   "outputs": [
    {
     "name": "stdout",
     "output_type": "stream",
     "text": [
      "How you doin BATMAN!\n"
     ]
    }
   ],
   "source": [
    "#task 1\n",
    "user_name = input(\"What is your name?\")\n",
    "print(f\"How you doin {user_name.upper()}!\")"
   ]
  },
  {
   "cell_type": "code",
   "execution_count": null,
   "id": "489f92dd",
   "metadata": {},
   "outputs": [
    {
     "name": "stdout",
     "output_type": "stream",
     "text": [
      "My name is kate and I am 19 years old.\n"
     ]
    }
   ],
   "source": [
    "#task 2\n",
    "user_name = input(\"What is your name?\")\n",
    "age = input(\"How old are you?\")\n",
    "print(\"My name is\", user_name, \"and I am\", age, \"years old.\")"
   ]
  },
  {
   "cell_type": "code",
   "execution_count": 10,
   "id": "e6ea375b",
   "metadata": {},
   "outputs": [
    {
     "name": "stdout",
     "output_type": "stream",
     "text": [
      "The value of pi to 2 decimal places is: 3.14\n",
      "The value of pi to 3 decimal places is: 3.142\n",
      "The value of pi to 4 decimal places is: 3.1416\n"
     ]
    }
   ],
   "source": [
    "#task 3\n",
    "import numpy as np\n",
    "pi = 3.141592653589793\n",
    "for i in range(2,5):\n",
    "    print(f\"The value of pi to {i} decimal places is: {np.pi:.{i}f}\")"
   ]
  },
  {
   "cell_type": "code",
   "execution_count": 23,
   "id": "88dfe3e2",
   "metadata": {},
   "outputs": [
    {
     "name": "stdout",
     "output_type": "stream",
     "text": [
      "Apple      $ 0.99\n",
      "Banana     $ 0.59\n",
      "Orange     $ 1.29\n"
     ]
    }
   ],
   "source": [
    "#task 4\n",
    "fruit_prices= [\n",
    "    [\"Apple\", 0.99],\n",
    "    [\"Banana\", 0.59],\n",
    "    [\"Orange\", 1.29]\n",
    "\n",
    "             ]\n",
    "for fruit, price in fruit_prices:\n",
    "    print(f\"{fruit:<10} ${price:>5.2f}\")"
   ]
  },
  {
   "cell_type": "markdown",
   "id": "61006002",
   "metadata": {},
   "source": [
    "## Exercise 2"
   ]
  },
  {
   "cell_type": "code",
   "execution_count": 34,
   "id": "e9ce3570",
   "metadata": {},
   "outputs": [
    {
     "name": "stdout",
     "output_type": "stream",
     "text": [
      "The student's letter grade is: A\n"
     ]
    }
   ],
   "source": [
    "while True:\n",
    "    score = input(\"Enter student's score:\")\n",
    "    if score.isdigit() == True:\n",
    "        score = int(score)\n",
    "        if score < 0 or score > 100:\n",
    "            print(\"Score must be a number from 0 to 100.\")\n",
    "        else:\n",
    "            break\n",
    "    else:\n",
    "        print(\"Score must be a number.\")\n",
    "\n",
    "if score < 35:\n",
    "    print (\"The student's letter grade is: Fail\")\n",
    "elif 35 <= score <50 :\n",
    "    print (\"The student's letter grade is: C\")\n",
    "elif 50 <= score <70 :\n",
    "    print (\"The student's letter grade is: B\")\n",
    "else:\n",
    "    print(\"The student's letter grade is: A\")"
   ]
  },
  {
   "cell_type": "markdown",
   "id": "3de9cc03",
   "metadata": {},
   "source": [
    "## Exercise 3"
   ]
  },
  {
   "cell_type": "code",
   "execution_count": 42,
   "id": "cb8c013b",
   "metadata": {},
   "outputs": [
    {
     "name": "stdout",
     "output_type": "stream",
     "text": [
      "120\n",
      "Invalid input\n",
      "1\n"
     ]
    }
   ],
   "source": [
    "def factorial(n):\n",
    "    if n < 0: #< 0 instead of >\n",
    "        return \"Invalid input\"\n",
    "    elif n == 0: #is 0\n",
    "        return 1\n",
    "    else:\n",
    "        result = 1\n",
    "        for number in range(1, n+1):\n",
    "            result *= number # * instead of +\n",
    "        return result\n",
    "\n",
    "\n",
    "print(factorial(5))   # Testing, expected output: 120\n",
    "print(factorial(-1))  # Testing, expected output: Invalid input\n",
    "print(factorial(0))   # expect 1"
   ]
  }
 ],
 "metadata": {
  "kernelspec": {
   "display_name": "base",
   "language": "python",
   "name": "python3"
  },
  "language_info": {
   "codemirror_mode": {
    "name": "ipython",
    "version": 3
   },
   "file_extension": ".py",
   "mimetype": "text/x-python",
   "name": "python",
   "nbconvert_exporter": "python",
   "pygments_lexer": "ipython3",
   "version": "3.13.5"
  },
  "toc": {
   "base_numbering": 1,
   "nav_menu": {},
   "number_sections": true,
   "sideBar": true,
   "skip_h1_title": false,
   "title_cell": "Table of Contents",
   "title_sidebar": "Contents",
   "toc_cell": false,
   "toc_position": {},
   "toc_section_display": true,
   "toc_window_display": false
  }
 },
 "nbformat": 4,
 "nbformat_minor": 5
}
