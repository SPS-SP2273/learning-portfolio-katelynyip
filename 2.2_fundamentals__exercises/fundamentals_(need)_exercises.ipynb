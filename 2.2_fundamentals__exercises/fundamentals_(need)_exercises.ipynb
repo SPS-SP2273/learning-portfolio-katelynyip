{
 "cells": [
  {
   "attachments": {},
   "cell_type": "markdown",
   "id": "123456",
   "metadata": {},
   "source": [
    "<div style=\"text-align:left;font-size:2em\"><span style=\"font-weight:bolder;font-size:1.25em\">SP2273 | Learning Portfolio</span><br><br><span style=\"font-weight:bold;color:darkred\">Fundamentals (Need) Exercises</span></div>"
   ]
  },
  {
   "cell_type": "markdown",
   "id": "201d1cc0",
   "metadata": {},
   "source": [
    "## 1\n",
    "\n",
    "print, and, or, if, elif, else, for, in, import, range, _exit(), list= [], dictionary_"
   ]
  },
  {
   "cell_type": "markdown",
   "id": "790ec5e4",
   "metadata": {},
   "source": [
    "## 2"
   ]
  },
  {
   "cell_type": "code",
   "execution_count": 2,
   "id": "803cf937",
   "metadata": {},
   "outputs": [
    {
     "name": "stdout",
     "output_type": "stream",
     "text": [
      "3 4 5\n"
     ]
    }
   ],
   "source": [
    "import math\n",
    "x, y = 3, 4\n",
    "z = math.sqrt(x**2 + y**2)\n",
    "print(x, y, int(z))"
   ]
  },
  {
   "cell_type": "markdown",
   "id": "a891497b",
   "metadata": {},
   "source": [
    "## 3\n",
    "\n",
    "|#| Term | Description |\n",
    "|:-|:---:|------------|\n",
    "|1| Function|Carries out tasks.|\n",
    "|2| Arguments|Infomation that you give to a function for it to run with.|\n",
    "|3| Comments |Notes for you or others about the purpose of the code.|\n",
    "|4| Indentations |The space before a line of code, used to tell the interpreter that the block of code belongs to that function.|\n",
    "|5| Packages |Extra functions to be imported on top of basic Python features for things like math.|\n",
    "|6| . |To show ownership of a function to a module or to words and numbers.|\n",
    "|7| : |Used after functions like for, if, elif and else with indents|\n",
    "|8| [] |For 1D lists|\n",
    "|9| [[],[]] |For making 2D lists|\n",
    "|10| {} |To store infomation in a dictionary.|\n",
    "\n"
   ]
  },
  {
   "cell_type": "markdown",
   "id": "72160175",
   "metadata": {},
   "source": [
    "## 4 "
   ]
  },
  {
   "cell_type": "code",
   "execution_count": null,
   "id": "58eae221",
   "metadata": {},
   "outputs": [
    {
     "data": {
      "text/plain": [
       "2.5"
      ]
     },
     "execution_count": 5,
     "metadata": {},
     "output_type": "execute_result"
    }
   ],
   "source": [
    "5/2 #divides normally, giving a float"
   ]
  },
  {
   "cell_type": "code",
   "execution_count": 8,
   "id": "e0fe63bb",
   "metadata": {},
   "outputs": [
    {
     "data": {
      "text/plain": [
       "2"
      ]
     },
     "execution_count": 8,
     "metadata": {},
     "output_type": "execute_result"
    }
   ],
   "source": [
    "5//2 #divides and gives the quotient as result"
   ]
  },
  {
   "cell_type": "code",
   "execution_count": null,
   "id": "82a8dde7",
   "metadata": {},
   "outputs": [
    {
     "data": {
      "text/plain": [
       "0"
      ]
     },
     "execution_count": 1,
     "metadata": {},
     "output_type": "execute_result"
    }
   ],
   "source": [
    "5%2 #divides and gives the remainder as result\n"
   ]
  }
 ],
 "metadata": {
  "kernelspec": {
   "display_name": "base",
   "language": "python",
   "name": "python3"
  },
  "language_info": {
   "codemirror_mode": {
    "name": "ipython",
    "version": 3
   },
   "file_extension": ".py",
   "mimetype": "text/x-python",
   "name": "python",
   "nbconvert_exporter": "python",
   "pygments_lexer": "ipython3",
   "version": "3.13.5"
  },
  "toc": {
   "base_numbering": 1,
   "nav_menu": {},
   "number_sections": true,
   "sideBar": true,
   "skip_h1_title": false,
   "title_cell": "Table of Contents",
   "title_sidebar": "Contents",
   "toc_cell": false,
   "toc_position": {},
   "toc_section_display": true,
   "toc_window_display": false
  }
 },
 "nbformat": 4,
 "nbformat_minor": 5
}
