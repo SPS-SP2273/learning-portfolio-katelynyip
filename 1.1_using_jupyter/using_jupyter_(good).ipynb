{
 "cells": [
  {
   "attachments": {},
   "cell_type": "markdown",
   "id": "123456",
   "metadata": {},
   "source": [
    "<div style=\"text-align:left;font-size:2em\"><span style=\"font-weight:bolder;font-size:1.25em\">SP2273 | Learning Portfolio</span><br><br><span style=\"font-weight:bold;color:darkred\">Using Jupyter (Good)</span></div>"
   ]
  },
  {
   "attachments": {},
   "cell_type": "markdown",
   "id": "123456",
   "metadata": {},
   "source": [
    "# What to expect in this chapter"
   ]
  },
  {
   "attachments": {},
   "cell_type": "markdown",
   "id": "123456",
   "metadata": {},
   "source": [
    "# 1 Some tips and tricks"
   ]
  },
  {
   "attachments": {},
   "cell_type": "markdown",
   "id": "123456",
   "metadata": {},
   "source": [
    "## 1.1 Keyboard Shortcuts"
   ]
  },
  {
   "cell_type": "code",
   "execution_count": 4,
   "id": "ef2f3f4e",
   "metadata": {},
   "outputs": [
    {
     "name": "stdout",
     "output_type": "stream",
     "text": [
      "hello\n"
     ]
    }
   ],
   "source": [
    "print('hello')"
   ]
  },
  {
   "cell_type": "code",
   "execution_count": 6,
   "id": "5c2bbbdf",
   "metadata": {},
   "outputs": [
    {
     "data": {
      "text/plain": [
       "True"
      ]
     },
     "execution_count": 6,
     "metadata": {},
     "output_type": "execute_result"
    }
   ],
   "source": [
    "1+1 == 2"
   ]
  },
  {
   "attachments": {},
   "cell_type": "markdown",
   "id": "123456",
   "metadata": {},
   "source": [
    "### Things to note"
   ]
  },
  {
   "cell_type": "code",
   "execution_count": null,
   "id": "123456",
   "metadata": {},
   "outputs": [],
   "source": [
    "\n",
    "# Your code here\n"
   ]
  },
  {
   "attachments": {},
   "cell_type": "markdown",
   "id": "123456",
   "metadata": {},
   "source": [
    "## 1.2 Shell commands"
   ]
  },
  {
   "cell_type": "code",
   "execution_count": 3,
   "id": "f8518a9d",
   "metadata": {},
   "outputs": [
    {
     "name": "stdout",
     "output_type": "stream",
     "text": [
      "c:\\Users\\Katelyn\\Documents\\GitHub\\learning-portfolio-katelynyip\\1.1_using_jupyter\n"
     ]
    },
    {
     "name": "stdout",
     "output_type": "stream",
     "text": [
      "3 channel Terms of Service accepted\n"
     ]
    },
    {
     "name": "stderr",
     "output_type": "stream",
     "text": [
      "\n",
      "PackagesNotFoundError: The following packages are missing from the target environment:\n",
      "  - jupyter_contrib_nbextensions\n",
      "\n",
      "\n"
     ]
    },
    {
     "name": "stdout",
     "output_type": "stream",
     "text": [
      "3 channel Terms of Service accepted\n",
      "Retrieving notices: done\n",
      "Channels:\n",
      " - conda-forge\n",
      " - defaults\n",
      "Platform: win-64\n",
      "Collecting package metadata (repodata.json): done\n",
      "Solving environment: done\n",
      "\n",
      "## Package Plan ##\n",
      "\n",
      "  environment location: C:\\Users\\Katelyn\\miniconda3\n",
      "\n",
      "  added / updated specs:\n",
      "    - notebook=7.0.6\n",
      "\n",
      "\n",
      "The following packages will be downloaded:\n",
      "\n",
      "    package                    |            build\n",
      "    ---------------------------|-----------------\n",
      "    importlib_metadata-8.7.0   |       h40b2b14_1          22 KB  conda-forge\n",
      "    importlib_resources-6.5.2  |     pyhd8ed1ab_0          33 KB  conda-forge\n",
      "    jupyterlab-4.0.13          |     pyhd8ed1ab_1         5.7 MB  conda-forge\n",
      "    notebook-7.0.6             |     pyhd8ed1ab_0         3.0 MB  conda-forge\n",
      "    ------------------------------------------------------------\n",
      "                                           Total:         8.7 MB\n",
      "\n",
      "The following NEW packages will be INSTALLED:\n",
      "\n",
      "  importlib_metadata conda-forge/noarch::importlib_metadata-8.7.0-h40b2b14_1 \n",
      "  importlib_resourc~ conda-forge/noarch::importlib_resources-6.5.2-pyhd8ed1ab_0 \n",
      "\n",
      "The following packages will be DOWNGRADED:\n",
      "\n",
      "  jupyterlab                             4.4.5-pyhd8ed1ab_0 --> 4.0.13-pyhd8ed1ab_1 \n",
      "  notebook                               7.4.5-pyhd8ed1ab_0 --> 7.0.6-pyhd8ed1ab_0 \n",
      "\n",
      "\n",
      "\n",
      "Downloading and Extracting Packages: ...working...\n",
      "jupyterlab-4.0.13    | 5.7 MB    |            |   0% \n",
      "\n",
      "notebook-7.0.6       | 3.0 MB    |            |   0% \u001b[A\n",
      "\n",
      "\n",
      "importlib_resources- | 33 KB     |            |   0% \u001b[A\u001b[A\n",
      "\n",
      "\n",
      "\n",
      "importlib_metadata-8 | 22 KB     |            |   0% \u001b[A\u001b[A\u001b[A\n",
      "jupyterlab-4.0.13    | 5.7 MB    |            |   0% \n",
      "\n",
      "\n",
      "importlib_resources- | 33 KB     | ########## | 100% \u001b[A\u001b[A\n",
      "\n",
      "\n",
      "importlib_resources- | 33 KB     | ########## | 100% \u001b[A\u001b[A\n",
      "\n",
      "notebook-7.0.6       | 3.0 MB    |            |   1% \u001b[A\n",
      "\n",
      "\n",
      "\n",
      "importlib_metadata-8 | 22 KB     | #######3   |  74% \u001b[A\u001b[A\u001b[A\n",
      "\n",
      "\n",
      "\n",
      "importlib_metadata-8 | 22 KB     | ########## | 100% \u001b[A\u001b[A\u001b[A\n",
      "jupyterlab-4.0.13    | 5.7 MB    | #          |  10% \n",
      "\n",
      "notebook-7.0.6       | 3.0 MB    | ##4        |  25% \u001b[A\n",
      "\n",
      "\n",
      "\n",
      "importlib_metadata-8 | 22 KB     | ########## | 100% \u001b[A\u001b[A\u001b[A\n",
      "jupyterlab-4.0.13    | 5.7 MB    | #8         |  18% \n",
      "\n",
      "notebook-7.0.6       | 3.0 MB    | #####      |  50% \u001b[A\n",
      "\n",
      "\n",
      "importlib_resources- | 33 KB     | ########## | 100% \u001b[A\u001b[A\n",
      "jupyterlab-4.0.13    | 5.7 MB    | ##6        |  27% \n",
      "\n",
      "notebook-7.0.6       | 3.0 MB    | #######5   |  76% \u001b[A\n",
      "jupyterlab-4.0.13    | 5.7 MB    | ###4       |  35% \n",
      "\n",
      "notebook-7.0.6       | 3.0 MB    | ########## | 100% \u001b[A\n",
      "\n",
      "notebook-7.0.6       | 3.0 MB    | ########## | 100% \u001b[A\n",
      "jupyterlab-4.0.13    | 5.7 MB    | #####2     |  52% \n",
      "jupyterlab-4.0.13    | 5.7 MB    | #######3   |  74% \n",
      "jupyterlab-4.0.13    | 5.7 MB    | #########4 |  95% \n",
      "jupyterlab-4.0.13    | 5.7 MB    | ########## | 100% \n",
      "\n",
      "notebook-7.0.6       | 3.0 MB    | ########## | 100% \u001b[A\n",
      "jupyterlab-4.0.13    | 5.7 MB    | ########## | 100% \n",
      "                                                     \n",
      "\n",
      "\n",
      "                                                     \u001b[A\n",
      "\n",
      "\n",
      "                                                     \u001b[A\u001b[A\n",
      "\n",
      "\n",
      "\n",
      "                                                     \u001b[A\u001b[A\u001b[A done\n",
      "Preparing transaction: done\n",
      "Verifying transaction: done\n",
      "Executing transaction: done\n"
     ]
    }
   ],
   "source": [
    "!cd\n",
    "!conda remove jupyter_contrib_nbextensions\n",
    "!conda install -c conda-forge notebook=7.0.6 -y"
   ]
  },
  {
   "attachments": {},
   "cell_type": "markdown",
   "id": "123456",
   "metadata": {},
   "source": [
    "# 2 Install Notebook 7"
   ]
  },
  {
   "attachments": {},
   "cell_type": "markdown",
   "id": "123456",
   "metadata": {},
   "source": [
    "# Jupyter Extensions"
   ]
  },
  {
   "attachments": {},
   "cell_type": "markdown",
   "id": "123456",
   "metadata": {},
   "source": [
    "## Installing the extensions"
   ]
  },
  {
   "attachments": {},
   "cell_type": "markdown",
   "id": "123456",
   "metadata": {},
   "source": [
    "## Enabling the extensions"
   ]
  },
  {
   "attachments": {},
   "cell_type": "markdown",
   "id": "123456",
   "metadata": {},
   "source": [
    "# 3 Shell Magic"
   ]
  },
  {
   "cell_type": "code",
   "execution_count": 4,
   "id": "140f53e4",
   "metadata": {},
   "outputs": [
    {
     "name": "stdout",
     "output_type": "stream",
     "text": [
      "53.8 ns ± 3.01 ns per loop (mean ± std. dev. of 7 runs, 10,000,000 loops each)\n"
     ]
    }
   ],
   "source": [
    "%timeit x=10"
   ]
  },
  {
   "attachments": {},
   "cell_type": "markdown",
   "id": "123456",
   "metadata": {},
   "source": [
    "# 4 The Kernel"
   ]
  }
 ],
 "metadata": {
  "kernelspec": {
   "display_name": "base",
   "language": "python",
   "name": "python3"
  },
  "language_info": {
   "codemirror_mode": {
    "name": "ipython",
    "version": 3
   },
   "file_extension": ".py",
   "mimetype": "text/x-python",
   "name": "python",
   "nbconvert_exporter": "python",
   "pygments_lexer": "ipython3",
   "version": "3.13.5"
  },
  "toc": {
   "base_numbering": 1,
   "nav_menu": {},
   "number_sections": true,
   "sideBar": true,
   "skip_h1_title": false,
   "title_cell": "Table of Contents",
   "title_sidebar": "Contents",
   "toc_cell": false,
   "toc_position": {},
   "toc_section_display": true,
   "toc_window_display": false
  }
 },
 "nbformat": 4,
 "nbformat_minor": 5
}
