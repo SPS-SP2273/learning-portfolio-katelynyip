{
 "cells": [
  {
   "attachments": {},
   "cell_type": "markdown",
   "id": "123456",
   "metadata": {},
   "source": [
    "<div style=\"text-align:left;font-size:2em\"><span style=\"font-weight:bolder;font-size:1.25em\">SP2273 | Learning Portfolio</span><br><br><span style=\"font-weight:bold;color:darkred\">Loops (Need) Exercises</span></div>"
   ]
  },
  {
   "cell_type": "markdown",
   "id": "a843aa2d",
   "metadata": {},
   "source": [
    "## Exercise 1"
   ]
  },
  {
   "cell_type": "code",
   "execution_count": 13,
   "id": "f80c6e09",
   "metadata": {},
   "outputs": [
    {
     "name": "stdout",
     "output_type": "stream",
     "text": [
      "0 C 32.0 F\n",
      "5 C 41.0 F\n",
      "10 C 50.0 F\n",
      "15 C 59.0 F\n",
      "20 C 68.0 F\n",
      "25 C 77.0 F\n",
      "30 C 86.0 F\n",
      "35 C 95.0 F\n",
      "40 C 104.0 F\n",
      "45 C 113.0 F\n",
      "50 C 122.0 F\n"
     ]
    }
   ],
   "source": [
    "temperatures_celsius = [\n",
    "    0, 5, 10, 15, 20, 25,\n",
    "    30, 35, 40, 45, 50\n",
    "]\n",
    "temperature_far = []\n",
    "for i in range(len(temperatures_celsius)):\n",
    "    temperature_far.append((temperatures_celsius[i]*1.8 + 32))\n",
    "    print(temperatures_celsius[i], \"C\", temperature_far[i] , \"F\")"
   ]
  },
  {
   "cell_type": "markdown",
   "id": "b26a561a",
   "metadata": {},
   "source": [
    "## Exercise 2"
   ]
  },
  {
   "cell_type": "code",
   "execution_count": 9,
   "id": "dd191d1f",
   "metadata": {},
   "outputs": [
    {
     "name": "stdout",
     "output_type": "stream",
     "text": [
      "1 : 1\t2\t3\t4\t5\t\n",
      "\n",
      "2 : 2\t4\t6\t8\t10\t\n",
      "\n",
      "3 : 3\t6\t9\t12\t15\t\n",
      "\n",
      "4 : 4\t8\t12\t16\t20\t\n",
      "\n",
      "5 : 5\t10\t15\t20\t25\t\n",
      "\n"
     ]
    }
   ],
   "source": [
    "for number in range(1,6):\n",
    "    print(f\"{number} :\", end=\" \")\n",
    "    for times in range (1,6):\n",
    "        print(f\"{number * times}\", end=\"\\t\")\n",
    "    print(\"\\n\")\n"
   ]
  },
  {
   "cell_type": "markdown",
   "id": "5b94f177",
   "metadata": {},
   "source": [
    "## Exercise 3"
   ]
  },
  {
   "cell_type": "code",
   "execution_count": 23,
   "id": "66137f62",
   "metadata": {},
   "outputs": [
    {
     "name": "stdout",
     "output_type": "stream",
     "text": [
      "Experiment 1: No. of Heads = 7\n",
      "Experiment 2: No. of Heads = 4\n",
      "Experiment 3: No. of Heads = 6\n",
      "Experiment 4: No. of Heads = 6\n",
      "Experiment 5: No. of Heads = 4\n",
      "Experiment 6: No. of Heads = 4\n",
      "Experiment 7: No. of Heads = 5\n",
      "Experiment 8: No. of Heads = 4\n",
      "Experiment 9: No. of Heads = 4\n",
      "Experiment 10: No. of Heads = 6\n"
     ]
    }
   ],
   "source": [
    "import numpy as np\n",
    "for ex in range(10):\n",
    "    heads = sum(np.random.rand(10) > 0.5)\n",
    "\n",
    "    print(f\"Experiment {ex + 1}: No. of Heads = {heads}\")"
   ]
  }
 ],
 "metadata": {
  "kernelspec": {
   "display_name": "base",
   "language": "python",
   "name": "python3"
  },
  "language_info": {
   "codemirror_mode": {
    "name": "ipython",
    "version": 3
   },
   "file_extension": ".py",
   "mimetype": "text/x-python",
   "name": "python",
   "nbconvert_exporter": "python",
   "pygments_lexer": "ipython3",
   "version": "3.13.5"
  },
  "toc": {
   "base_numbering": 1,
   "nav_menu": {},
   "number_sections": true,
   "sideBar": true,
   "skip_h1_title": false,
   "title_cell": "Table of Contents",
   "title_sidebar": "Contents",
   "toc_cell": false,
   "toc_position": {},
   "toc_section_display": true,
   "toc_window_display": false
  }
 },
 "nbformat": 4,
 "nbformat_minor": 5
}
