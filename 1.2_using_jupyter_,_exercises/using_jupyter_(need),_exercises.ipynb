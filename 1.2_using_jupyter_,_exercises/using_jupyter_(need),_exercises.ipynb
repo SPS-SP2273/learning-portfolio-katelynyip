{
 "cells": [
  {
   "attachments": {},
   "cell_type": "markdown",
   "id": "123456",
   "metadata": {},
   "source": [
    "<div style=\"text-align:left;font-size:2em\"><span style=\"font-weight:bolder;font-size:1.25em\">SP2273 | Learning Portfolio</span><br><br><span style=\"font-weight:bold;color:darkred\">Using Jupyter (Need), Exercises</span></div>"
   ]
  },
  {
   "attachments": {},
   "cell_type": "markdown",
   "id": "123456",
   "metadata": {},
   "source": [
    "## 1 Quadratic Equations"
   ]
  },
  {
   "attachments": {},
   "cell_type": "markdown",
   "id": "123456",
   "metadata": {},
   "source": [
    "### Introduction"
   ]
  },
  {
   "cell_type": "markdown",
   "id": "81a44a58",
   "metadata": {},
   "source": [
    "![](Polynomialdeg2.svg.png)"
   ]
  },
  {
   "cell_type": "markdown",
   "id": "6f5e4e4f",
   "metadata": {},
   "source": [
    "_Image from [Wikipedia page on Quadratic Equations](https://upload.wikimedia.org/wikipedia/commons/thumb/f/f8/Polynomialdeg2.svg/300px-Polynomialdeg2.svg.png)_"
   ]
  },
  {
   "cell_type": "markdown",
   "id": "4d714d63",
   "metadata": {},
   "source": [
    "The general form of a quadratic equation is:\n",
    "\n",
    "$$\n",
    "ax^2+bx+c=0\n",
    "$$"
   ]
  },
  {
   "attachments": {},
   "cell_type": "markdown",
   "id": "123456",
   "metadata": {},
   "source": [
    "### Solutions"
   ]
  },
  {
   "cell_type": "markdown",
   "id": "cdd32786",
   "metadata": {},
   "source": [
    "Provided $a \\ne 0$, we can use an elementary algebraic method called [completing the square](https://en.wikipedia.org/wiki/Completing_the_square) to show that a quadratic equation has the following solution:"
   ]
  },
  {
   "cell_type": "markdown",
   "id": "808e8533",
   "metadata": {},
   "source": [
    "$$\n",
    "x= \\dfrac{-b \\pm \\sqrt{b^2-4ac}}{2a}\n",
    "$$"
   ]
  },
  {
   "attachments": {},
   "cell_type": "markdown",
   "id": "123456",
   "metadata": {},
   "source": [
    "### Discriminant"
   ]
  },
  {
   "cell_type": "markdown",
   "id": "d6495bb6",
   "metadata": {},
   "source": [
    "The quantity $\\delta=b^2-4ac$ is called the **discriminant** of the equation and decides the nature of its solutions. The table below shows the various possibilities.\n",
    "| **Discriminant** |**Roots**|\n",
    "|:-----------------|---------------:|\n",
    "|$\\Delta=b^2-4ac=0$|A single solution of $-b/(2a)$|\n",
    "|$\\Delta=b^2-4ac>0$|Two distinct solutions|\n",
    "|$\\Delta=b^2-4ac<0$|No real solutions; both are complex.|"
   ]
  },
  {
   "cell_type": "markdown",
   "id": "f7cdf8d1",
   "metadata": {},
   "source": [
    "## Exercise 2\n",
    "1. Git repository is a folder where all the files we use are saved.\n",
    "1. Git keeps track of changes in the files in our repository\n",
    "1. Commit means to record the changes you made locally\n",
    "1. Push is to add the changes onto the shared copy of the file on Github\n",
    "1. Pull is to sync changes made by others from the cloud onto your local files.\n",
    "1. GitHub is the cloud we upload our changes to while GitHub Desktop is used to commit, push or pull from GitHub."
   ]
  },
  {
   "cell_type": "markdown",
   "id": "15b1d6a5",
   "metadata": {},
   "source": [
    "## Exercise 3"
   ]
  },
  {
   "cell_type": "markdown",
   "id": "70a253cf",
   "metadata": {},
   "source": [
    "$$ \n",
    "\\mu = \\frac {1}{n} \\sum_{i=1}^n x_i\n",
    "$$\n",
    "$$\n",
    "\\delta = \\sqrt{\\dfrac{1}{n} \\sum_{i=1}^n(x_i-\\mu)^2}\n",
    "$$\n",
    "$$\n",
    "r = \\dfrac{\\sum_{i=1}^n (x_i-\\mu\\chi)(y_i-\\mu\\gamma)}{\\sqrt{\\sum_{i=1}^n (x_i-\\mu\\chi)^2} \\sqrt{\\sum_{i=1}^n(y_i-\\mu\\gamma)^2}}"
   ]
  }
 ],
 "metadata": {
  "kernelspec": {
   "display_name": "Python 3",
   "language": "python",
   "name": "python3"
  },
  "language_info": {
   "codemirror_mode": {
    "name": "ipython",
    "version": 3
   },
   "file_extension": ".py",
   "mimetype": "text/x-python",
   "name": "python",
   "nbconvert_exporter": "python",
   "pygments_lexer": "ipython3",
   "version": "3.10.6 (main, Nov 14 2022, 16:10:14) [GCC 11.3.0]"
  },
  "toc": {
   "base_numbering": 1,
   "nav_menu": {},
   "number_sections": true,
   "sideBar": true,
   "skip_h1_title": false,
   "title_cell": "Table of Contents",
   "title_sidebar": "Contents",
   "toc_cell": false,
   "toc_position": {},
   "toc_section_display": true,
   "toc_window_display": false
  },
  "vscode": {
   "interpreter": {
    "hash": "31f2aee4e71d21fbe5cf8b01ff0e069b9275f58929596ceb00d14d90e3e16cd6"
   }
  }
 },
 "nbformat": 4,
 "nbformat_minor": 5
}
