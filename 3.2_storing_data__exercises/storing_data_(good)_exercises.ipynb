{
 "cells": [
  {
   "attachments": {},
   "cell_type": "markdown",
   "id": "123456",
   "metadata": {},
   "source": [
    "<div style=\"text-align:left;font-size:2em\"><span style=\"font-weight:bolder;font-size:1.25em\">SP2273 | Learning Portfolio</span><br><br><span style=\"font-weight:bold;color:darkred\">Storing Data (Good) Exercises</span></div>"
   ]
  },
  {
   "cell_type": "markdown",
   "id": "2eef0255",
   "metadata": {},
   "source": [
    "## Exercise 1"
   ]
  },
  {
   "cell_type": "markdown",
   "id": "ca74be3f",
   "metadata": {},
   "source": [
    "| Term | Brief Description|\n",
    "|------|--------------|\n",
    "|Subsetting|To pick only some elements or part of the data |\n",
    "|Indexing |To select using the index number of the element in the list |\n",
    "|Masking| To select only elements in an array that fulfil the criteria |"
   ]
  },
  {
   "cell_type": "markdown",
   "id": "d9dc9492",
   "metadata": {},
   "source": [
    "## Exercise 2"
   ]
  },
  {
   "cell_type": "code",
   "execution_count": 11,
   "id": "1a2424e9",
   "metadata": {},
   "outputs": [
    {
     "data": {
      "text/plain": [
       "array(['A', 'C', 'E', 'G', 'I'], dtype='<U21')"
      ]
     },
     "execution_count": 11,
     "metadata": {},
     "output_type": "execute_result"
    }
   ],
   "source": [
    "import numpy as np\n",
    "np_array_2d = np.array([[1, \"A\"], [3, \"C\"], [2, \"B\"], [4, \"D\"],\n",
    "                        [5, \"E\"], [7, \"G\"], [6, \"F\"], [8, \"H\"],\n",
    "                        [10, \"J\"], [9, \"I\"]])\n",
    "numbers_array = np_array_2d[:,0]\n",
    "numbers_mask = numbers_array.astype(int)%2 !=0\n",
    "letters_array = np_array_2d[numbers_mask]\n",
    "letters_array[:,1]"
   ]
  },
  {
   "cell_type": "markdown",
   "id": "2a893203",
   "metadata": {},
   "source": [
    "## Exercise 3"
   ]
  },
  {
   "cell_type": "code",
   "execution_count": 41,
   "id": "c903cb5c",
   "metadata": {},
   "outputs": [
    {
     "name": "stdout",
     "output_type": "stream",
     "text": [
      "[[ 1  0  1 -1 -1]\n",
      " [ 1 -1  1 -1 -1]\n",
      " [ 1 -1 -1  1 -1]\n",
      " [-1  1  1 -1 -1]\n",
      " [ 1 -1  1 -1  1]]\n"
     ]
    }
   ],
   "source": [
    "import numpy as np\n",
    "numbers= [[66, 50, 57, -1, -1],\n",
    "                         [92, -1, 88, -1, -1],\n",
    "                         [75, -1, -1, 76, -1],\n",
    "                         [-1, 51, 87, -1, -1],\n",
    "                         [71, -1, 67, -1, 69]]\n",
    "np_array = np.array(numbers)\n",
    "np_array[np_array < 50] = -1\n",
    "np_array[np_array > 50] = 1\n",
    "np_array[np_array == 50] = 0\n",
    "print(np_array)"
   ]
  }
 ],
 "metadata": {
  "kernelspec": {
   "display_name": "base",
   "language": "python",
   "name": "python3"
  },
  "language_info": {
   "codemirror_mode": {
    "name": "ipython",
    "version": 3
   },
   "file_extension": ".py",
   "mimetype": "text/x-python",
   "name": "python",
   "nbconvert_exporter": "python",
   "pygments_lexer": "ipython3",
   "version": "3.13.5"
  },
  "toc": {
   "base_numbering": 1,
   "nav_menu": {},
   "number_sections": true,
   "sideBar": true,
   "skip_h1_title": false,
   "title_cell": "Table of Contents",
   "title_sidebar": "Contents",
   "toc_cell": false,
   "toc_position": {},
   "toc_section_display": true,
   "toc_window_display": false
  }
 },
 "nbformat": 4,
 "nbformat_minor": 5
}
