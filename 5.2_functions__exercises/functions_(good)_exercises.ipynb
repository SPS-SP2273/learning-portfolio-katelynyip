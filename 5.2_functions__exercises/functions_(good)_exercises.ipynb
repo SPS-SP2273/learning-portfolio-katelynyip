{
 "cells": [
  {
   "attachments": {},
   "cell_type": "markdown",
   "id": "123456",
   "metadata": {},
   "source": [
    "<div style=\"text-align:left;font-size:2em\"><span style=\"font-weight:bolder;font-size:1.25em\">SP2273 | Learning Portfolio</span><br><br><span style=\"font-weight:bold;color:darkred\">Functions (Good) Exercises</span></div>"
   ]
  },
  {
   "cell_type": "markdown",
   "id": "906b7885",
   "metadata": {},
   "source": [
    "## Exercise 1"
   ]
  },
  {
   "cell_type": "code",
   "execution_count": 3,
   "id": "806be1a9",
   "metadata": {},
   "outputs": [
    {
     "name": "stdout",
     "output_type": "stream",
     "text": [
      "37.0 Celsius is equal to 98.60 Farenheit\n"
     ]
    }
   ],
   "source": [
    "def convert_celsius(temperature_celsius, target_scale = 'Farenheit'):\n",
    "    if target_scale == \"Kelvin\":\n",
    "        converted = temperature_celsius + 273.15\n",
    "        return f\"{converted} {target_scale}\"\n",
    "    return f\"{temperature_celsius * 1.8 + 32:.2f} Farenheit\" #default converts to f\n",
    "\n",
    "temperature_celsius = int(input(\"Temp in Celsius: \"))\n",
    "scale = input(\"Convert to Farenheit or Kelvin? \")\n",
    "print(f\"{float(temperature_celsius)} Celsius is equal to {convert_celsius(temperature_celsius, scale)}\")"
   ]
  },
  {
   "cell_type": "markdown",
   "id": "fd88100c",
   "metadata": {},
   "source": [
    "## Exercise 2"
   ]
  },
  {
   "cell_type": "code",
   "execution_count": 4,
   "id": "7ee2d93d",
   "metadata": {},
   "outputs": [
    {
     "name": "stdout",
     "output_type": "stream",
     "text": [
      "451.0 Farenheit is equal to 232.78 Celsius\n"
     ]
    }
   ],
   "source": [
    "def convert_farenheit(temperature_farenheit, target_scale = 'Celsius'):\n",
    "    if target_scale == \"Kelvin\":\n",
    "        converted = temperature_farenheit + 273.15\n",
    "        return f\"{converted} {target_scale}\"\n",
    "    return f\"{(temperature_farenheit-32)* 5/9 :.2f} Celsius\"\n",
    "\n",
    "temperature_farenheit = int(input(\"Temp in Farenheit: \"))\n",
    "scale = input(\"Convert to Celsius or Kelvin? \")\n",
    "print(f\"{float(temperature_farenheit)} Farenheit is equal to {convert_farenheit(temperature_farenheit, scale)}\")"
   ]
  },
  {
   "cell_type": "markdown",
   "id": "eb2fb08f",
   "metadata": {},
   "source": [
    "## Exercise 3"
   ]
  },
  {
   "cell_type": "code",
   "execution_count": 9,
   "id": "797f69de",
   "metadata": {},
   "outputs": [
    {
     "name": "stdout",
     "output_type": "stream",
     "text": [
      "130.0 Celsius is equal to 266.00 Farenheit\n"
     ]
    }
   ],
   "source": [
    "def convert_temperature(temperature, source_scale, target_scale):\n",
    "    if source_scale == \"Celsius\": #convert c to f or k\n",
    "        return(convert_celsius(temperature, target_scale))\n",
    "    elif source_scale == \"Farenheit\": #convert f to c or k\n",
    "        return(convert_farenheit(temperature, target_scale))\n",
    "    else: #convert k\n",
    "        if target_scale == \"Celsius\": #to c\n",
    "            converted = round(temperature - 273.15 ,2)\n",
    "            return f\"{converted} Celsius\"\n",
    "        \n",
    "        converted = round((temperature - 273.15)* 1.8 +32 ,2) #to f\n",
    "        return f\"{converted} Farenheit\"\n",
    "\n",
    "source = input(\"What is the units of the temperature you want to convert: Celsius, Farenheit or Kelvin? \")\n",
    "target = input(\"Convert to: \")\n",
    "temp = int(input(\"What is the temperature? \"))\n",
    "\n",
    "print(f\"{float(temp)} {source} is equal to {convert_temperature(temp, source, target)}\")"
   ]
  }
 ],
 "metadata": {
  "kernelspec": {
   "display_name": "base",
   "language": "python",
   "name": "python3"
  },
  "language_info": {
   "codemirror_mode": {
    "name": "ipython",
    "version": 3
   },
   "file_extension": ".py",
   "mimetype": "text/x-python",
   "name": "python",
   "nbconvert_exporter": "python",
   "pygments_lexer": "ipython3",
   "version": "3.13.5"
  },
  "toc": {
   "base_numbering": 1,
   "nav_menu": {},
   "number_sections": true,
   "sideBar": true,
   "skip_h1_title": false,
   "title_cell": "Table of Contents",
   "title_sidebar": "Contents",
   "toc_cell": false,
   "toc_position": {},
   "toc_section_display": true,
   "toc_window_display": false
  }
 },
 "nbformat": 4,
 "nbformat_minor": 5
}
