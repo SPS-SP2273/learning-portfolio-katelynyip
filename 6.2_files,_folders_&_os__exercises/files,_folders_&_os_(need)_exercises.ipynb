{
 "cells": [
  {
   "attachments": {},
   "cell_type": "markdown",
   "id": "123456",
   "metadata": {},
   "source": [
    "<div style=\"text-align:left;font-size:2em\"><span style=\"font-weight:bolder;font-size:1.25em\">SP2273 | Learning Portfolio</span><br><br><span style=\"font-weight:bold;color:darkred\">Files, Folders & OS (Need) Exercises</span></div>"
   ]
  },
  {
   "cell_type": "markdown",
   "id": "44b74557",
   "metadata": {},
   "source": [
    "## Task 1"
   ]
  },
  {
   "cell_type": "code",
   "execution_count": 20,
   "id": "b1598842",
   "metadata": {},
   "outputs": [],
   "source": [
    "import glob\n",
    "import os\n",
    "import shutil\n",
    "month = {\n",
    "'jan': '01', 'feb': '02', 'mar': '03',\n",
    "'apr': '04', 'may': '05', 'jun': '06',\n",
    "'jul': '07', 'aug': '08', 'sep': '09',\n",
    "'oct': '10', 'nov': '11', 'dec': '12'\n",
    "}\n",
    "#path = \"C:\\Users\\Katelyn\\Documents\\GitHub\\learning-portfolio-katelynyip\\6.2_files,_folders_&_os__exercises\\os-collaboration-exercise-data\"\n",
    "#file_list = glob.glob(\"os-collaboration-exercise-data/*.txt\", recursive= True)\n",
    "def rename_my_file(old_file_name): #task 2\n",
    "    path = old_file_name\n",
    "    filename = (os.path.split(path)[1])\n",
    "    #print(filename)\n",
    "    month_text = filename.split('-')[0]\n",
    "    if month_text.isdigit() == True:\n",
    "        return(\"File already renamed\")\n",
    "    month_num = month[month_text]\n",
    "    new_name = month_num +\"-\" + filename.split(\"-\")[1]\n",
    "    new_name = new_name.split(\"_\")[0] + \"-\" + new_name.split(\"_\")[1]\n",
    "    folder = os.path.dirname(path)\n",
    "    return(os.path.join(folder, new_name))\n",
    "\n"
   ]
  },
  {
   "cell_type": "code",
   "execution_count": 11,
   "id": "b26eb531",
   "metadata": {},
   "outputs": [
    {
     "name": "stdout",
     "output_type": "stream",
     "text": [
      "oct-08_singapore.txt ----> 10-08-singapore.txt\n",
      "jul-10_cairo.txt ----> 07-10-cairo.txt\n",
      "may-15_dhaka.txt ----> 05-15-dhaka.txt\n",
      "may-13_cairo.txt ----> 05-13-cairo.txt\n",
      "oct-21_cairo.txt ----> 10-21-cairo.txt\n",
      "jan-10_singapore.txt ----> 01-10-singapore.txt\n",
      "jun-20_tokyo.txt ----> 06-20-tokyo.txt\n",
      "aug-06_jakarta.txt ----> 08-06-jakarta.txt\n",
      "dec-21_karachi.txt ----> 12-21-karachi.txt\n",
      "jan-01_tokyo.txt ----> 01-01-tokyo.txt\n"
     ]
    }
   ],
   "source": [
    "#task 3\n",
    "file_list = ['oct-08_singapore.txt', 'jul-10_cairo.txt', 'may-15_dhaka.txt',\n",
    " 'may-13_cairo.txt', 'oct-21_cairo.txt', 'jan-10_singapore.txt',\n",
    " 'jun-20_tokyo.txt', 'aug-06_jakarta.txt', 'dec-21_karachi.txt',\n",
    " 'jan-01_tokyo.txt']\n",
    "\n",
    "for file in file_list:\n",
    "    print(f\"{file} ----> {rename_my_file(file)}\")"
   ]
  },
  {
   "cell_type": "code",
   "execution_count": 23,
   "id": "dda63020",
   "metadata": {},
   "outputs": [
    {
     "name": "stdout",
     "output_type": "stream",
     "text": [
      "[]\n"
     ]
    }
   ],
   "source": [
    "#task 4\n",
    "\n",
    "file_list = glob.glob(\"os-collaboration-exercise-data/*.txt\", recursive= True)\n",
    "print(file_list)\n",
    "for file in file_list:\n",
    "    try:   \n",
    "        os.rename(file, rename_my_file(file))\n",
    "        print(f\"{file} ----> {rename_my_file(file)}\")\n",
    "    except FileExistsError:\n",
    "        print(\"File already renamed\")"
   ]
  },
  {
   "cell_type": "code",
   "execution_count": 13,
   "id": "0a362e66",
   "metadata": {},
   "outputs": [
    {
     "name": "stdout",
     "output_type": "stream",
     "text": [
      "Creating os-collaboration-exercise-data\\Cairo\n",
      "Creating os-collaboration-exercise-data\\Dhaka\n",
      "Creating os-collaboration-exercise-data\\Jakarta\n",
      "Creating os-collaboration-exercise-data\\Karachi\n",
      "Creating os-collaboration-exercise-data\\Manila\n",
      "Creating os-collaboration-exercise-data\\Melbourne\n",
      "Creating os-collaboration-exercise-data\\Osaka\n",
      "Creating os-collaboration-exercise-data\\Shanghai\n",
      "Creating os-collaboration-exercise-data\\Singapore\n",
      "Creating os-collaboration-exercise-data\\Tokyo\n"
     ]
    }
   ],
   "source": [
    "# task 5\n",
    "cities = ['Cairo', 'Dhaka', 'Jakarta', 'Karachi', 'Manila',\n",
    " 'Melbourne', 'Osaka', 'Shanghai', 'Singapore', 'Tokyo']\n",
    "\n",
    "for city in cities:\n",
    "    new_path = os.path.join(\"os-collaboration-exercise-data\", city)\n",
    "    try:\n",
    "        os.mkdir(new_path)\n",
    "        print(f\"Creating {new_path}\")\n",
    "    except FileExistsError:\n",
    "        print(f\"{new_path} already exists\")"
   ]
  },
  {
   "cell_type": "code",
   "execution_count": null,
   "id": "4f23d869",
   "metadata": {},
   "outputs": [
    {
     "name": "stdout",
     "output_type": "stream",
     "text": [
      "['os-collaboration-exercise-data\\\\01-02-cairo.txt', 'os-collaboration-exercise-data\\\\01-03-cairo.txt', 'os-collaboration-exercise-data\\\\01-04-cairo.txt', 'os-collaboration-exercise-data\\\\01-05-cairo.txt', 'os-collaboration-exercise-data\\\\01-07-cairo.txt', 'os-collaboration-exercise-data\\\\01-08-cairo.txt', 'os-collaboration-exercise-data\\\\01-09-cairo.txt', 'os-collaboration-exercise-data\\\\01-11-cairo.txt', 'os-collaboration-exercise-data\\\\01-12-cairo.txt', 'os-collaboration-exercise-data\\\\01-13-cairo.txt', 'os-collaboration-exercise-data\\\\01-15-cairo.txt', 'os-collaboration-exercise-data\\\\01-16-cairo.txt', 'os-collaboration-exercise-data\\\\01-19-cairo.txt', 'os-collaboration-exercise-data\\\\01-20-cairo.txt', 'os-collaboration-exercise-data\\\\01-21-cairo.txt', 'os-collaboration-exercise-data\\\\01-23-cairo.txt', 'os-collaboration-exercise-data\\\\01-27-cairo.txt', 'os-collaboration-exercise-data\\\\01-30-cairo.txt', 'os-collaboration-exercise-data\\\\02-10-cairo.txt', 'os-collaboration-exercise-data\\\\02-17-cairo.txt', 'os-collaboration-exercise-data\\\\02-20-cairo.txt', 'os-collaboration-exercise-data\\\\02-22-cairo.txt', 'os-collaboration-exercise-data\\\\02-25-cairo.txt', 'os-collaboration-exercise-data\\\\02-26-cairo.txt', 'os-collaboration-exercise-data\\\\03-05-cairo.txt', 'os-collaboration-exercise-data\\\\03-06-cairo.txt', 'os-collaboration-exercise-data\\\\03-12-cairo.txt', 'os-collaboration-exercise-data\\\\03-14-cairo.txt', 'os-collaboration-exercise-data\\\\03-19-cairo.txt', 'os-collaboration-exercise-data\\\\03-24-cairo.txt', 'os-collaboration-exercise-data\\\\04-02-cairo.txt', 'os-collaboration-exercise-data\\\\04-06-cairo.txt', 'os-collaboration-exercise-data\\\\04-07-cairo.txt', 'os-collaboration-exercise-data\\\\04-10-cairo.txt', 'os-collaboration-exercise-data\\\\04-12-cairo.txt', 'os-collaboration-exercise-data\\\\04-13-cairo.txt', 'os-collaboration-exercise-data\\\\04-14-cairo.txt', 'os-collaboration-exercise-data\\\\04-15-cairo.txt', 'os-collaboration-exercise-data\\\\04-17-cairo.txt', 'os-collaboration-exercise-data\\\\04-20-cairo.txt', 'os-collaboration-exercise-data\\\\04-21-cairo.txt', 'os-collaboration-exercise-data\\\\04-22-cairo.txt', 'os-collaboration-exercise-data\\\\04-23-cairo.txt', 'os-collaboration-exercise-data\\\\04-24-cairo.txt', 'os-collaboration-exercise-data\\\\05-01-cairo.txt', 'os-collaboration-exercise-data\\\\05-02-cairo.txt', 'os-collaboration-exercise-data\\\\05-12-cairo.txt', 'os-collaboration-exercise-data\\\\05-17-cairo.txt', 'os-collaboration-exercise-data\\\\05-25-cairo.txt', 'os-collaboration-exercise-data\\\\05-27-cairo.txt', 'os-collaboration-exercise-data\\\\05-29-cairo.txt', 'os-collaboration-exercise-data\\\\05-30-cairo.txt', 'os-collaboration-exercise-data\\\\06-28-cairo.txt', 'os-collaboration-exercise-data\\\\07-04-cairo.txt', 'os-collaboration-exercise-data\\\\07-08-cairo.txt', 'os-collaboration-exercise-data\\\\07-10-cairo.txt', 'os-collaboration-exercise-data\\\\07-13-cairo.txt', 'os-collaboration-exercise-data\\\\07-14-cairo.txt', 'os-collaboration-exercise-data\\\\07-15-cairo.txt', 'os-collaboration-exercise-data\\\\07-16-cairo.txt', 'os-collaboration-exercise-data\\\\07-17-cairo.txt', 'os-collaboration-exercise-data\\\\07-19-cairo.txt', 'os-collaboration-exercise-data\\\\07-24-cairo.txt', 'os-collaboration-exercise-data\\\\07-26-cairo.txt', 'os-collaboration-exercise-data\\\\07-27-cairo.txt', 'os-collaboration-exercise-data\\\\07-29-cairo.txt', 'os-collaboration-exercise-data\\\\07-30-cairo.txt', 'os-collaboration-exercise-data\\\\08-01-cairo.txt', 'os-collaboration-exercise-data\\\\08-03-cairo.txt', 'os-collaboration-exercise-data\\\\08-04-cairo.txt', 'os-collaboration-exercise-data\\\\08-05-cairo.txt', 'os-collaboration-exercise-data\\\\08-07-cairo.txt', 'os-collaboration-exercise-data\\\\08-08-cairo.txt', 'os-collaboration-exercise-data\\\\08-10-cairo.txt', 'os-collaboration-exercise-data\\\\08-12-cairo.txt', 'os-collaboration-exercise-data\\\\08-14-cairo.txt', 'os-collaboration-exercise-data\\\\08-18-cairo.txt', 'os-collaboration-exercise-data\\\\08-19-cairo.txt', 'os-collaboration-exercise-data\\\\08-20-cairo.txt', 'os-collaboration-exercise-data\\\\08-24-cairo.txt', 'os-collaboration-exercise-data\\\\08-25-cairo.txt', 'os-collaboration-exercise-data\\\\08-26-cairo.txt', 'os-collaboration-exercise-data\\\\09-02-cairo.txt', 'os-collaboration-exercise-data\\\\09-04-cairo.txt', 'os-collaboration-exercise-data\\\\09-05-cairo.txt', 'os-collaboration-exercise-data\\\\09-07-cairo.txt', 'os-collaboration-exercise-data\\\\09-08-cairo.txt', 'os-collaboration-exercise-data\\\\09-11-cairo.txt', 'os-collaboration-exercise-data\\\\09-12-cairo.txt', 'os-collaboration-exercise-data\\\\09-13-cairo.txt', 'os-collaboration-exercise-data\\\\09-16-cairo.txt', 'os-collaboration-exercise-data\\\\09-18-cairo.txt', 'os-collaboration-exercise-data\\\\09-20-cairo.txt', 'os-collaboration-exercise-data\\\\09-22-cairo.txt', 'os-collaboration-exercise-data\\\\09-23-cairo.txt', 'os-collaboration-exercise-data\\\\09-24-cairo.txt', 'os-collaboration-exercise-data\\\\09-25-cairo.txt', 'os-collaboration-exercise-data\\\\09-26-cairo.txt', 'os-collaboration-exercise-data\\\\09-28-cairo.txt', 'os-collaboration-exercise-data\\\\10-23-cairo.txt', 'os-collaboration-exercise-data\\\\11-03-cairo.txt', 'os-collaboration-exercise-data\\\\11-04-cairo.txt', 'os-collaboration-exercise-data\\\\11-05-cairo.txt', 'os-collaboration-exercise-data\\\\11-10-cairo.txt', 'os-collaboration-exercise-data\\\\11-14-cairo.txt', 'os-collaboration-exercise-data\\\\11-17-cairo.txt', 'os-collaboration-exercise-data\\\\11-19-cairo.txt', 'os-collaboration-exercise-data\\\\11-21-cairo.txt', 'os-collaboration-exercise-data\\\\11-29-cairo.txt', 'os-collaboration-exercise-data\\\\12-01-cairo.txt', 'os-collaboration-exercise-data\\\\12-03-cairo.txt', 'os-collaboration-exercise-data\\\\12-04-cairo.txt', 'os-collaboration-exercise-data\\\\12-05-cairo.txt', 'os-collaboration-exercise-data\\\\12-07-cairo.txt', 'os-collaboration-exercise-data\\\\12-09-cairo.txt', 'os-collaboration-exercise-data\\\\12-10-cairo.txt', 'os-collaboration-exercise-data\\\\12-13-cairo.txt', 'os-collaboration-exercise-data\\\\12-17-cairo.txt', 'os-collaboration-exercise-data\\\\12-18-cairo.txt', 'os-collaboration-exercise-data\\\\12-19-cairo.txt', 'os-collaboration-exercise-data\\\\12-21-cairo.txt', 'os-collaboration-exercise-data\\\\12-22-cairo.txt', 'os-collaboration-exercise-data\\\\12-23-cairo.txt', 'os-collaboration-exercise-data\\\\12-26-cairo.txt', 'os-collaboration-exercise-data\\\\12-27-cairo.txt', 'os-collaboration-exercise-data\\\\12-29-cairo.txt']\n"
     ]
    }
   ],
   "source": [
    "#task 6\n",
    "cairo_list = glob.glob(\"os-collaboration-exercise-data/*-*-cairo.txt\", recursive= True)\n",
    "print(cairo_list)\n",
    "for file in cairo_list:\n",
    "    shutil.copy(file, \"os-collaboration-exercise-data/cairo\")"
   ]
  },
  {
   "cell_type": "code",
   "execution_count": 18,
   "id": "06c41b31",
   "metadata": {},
   "outputs": [],
   "source": [
    "cities = ['Cairo', 'Dhaka', 'Jakarta', 'Karachi', 'Manila',\n",
    " 'Melbourne', 'Osaka', 'Shanghai', 'Singapore', 'Tokyo']\n",
    "\n",
    "for city in cities:\n",
    "    #find files for each city\n",
    "    city_list = glob.glob(f\"os-collaboration-exercise-data/*-*-{city.lower()}.txt\", recursive= True)\n",
    "    city_folder = os.path.join(\"os-collaboration-exercise-data\",city)\n",
    "\n",
    "    for file in city_list:\n",
    "        #move files\n",
    "        shutil.move(file, city_folder)\n",
    "#print(city_list)\n",
    "    "
   ]
  }
 ],
 "metadata": {
  "kernelspec": {
   "display_name": "base",
   "language": "python",
   "name": "python3"
  },
  "language_info": {
   "codemirror_mode": {
    "name": "ipython",
    "version": 3
   },
   "file_extension": ".py",
   "mimetype": "text/x-python",
   "name": "python",
   "nbconvert_exporter": "python",
   "pygments_lexer": "ipython3",
   "version": "3.13.5"
  },
  "toc": {
   "base_numbering": 1,
   "nav_menu": {},
   "number_sections": true,
   "sideBar": true,
   "skip_h1_title": false,
   "title_cell": "Table of Contents",
   "title_sidebar": "Contents",
   "toc_cell": false,
   "toc_position": {},
   "toc_section_display": true,
   "toc_window_display": false
  }
 },
 "nbformat": 4,
 "nbformat_minor": 5
}
